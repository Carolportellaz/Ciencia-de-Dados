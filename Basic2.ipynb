{
 "cells": [
  {
   "cell_type": "code",
   "execution_count": 7,
   "id": "df963eae-4efa-4597-945b-9eba665ed818",
   "metadata": {},
   "outputs": [
    {
     "name": "stdout",
     "output_type": "stream",
     "text": [
      "Valor do array  [1 2 3 4 5]\n"
     ]
    }
   ],
   "source": [
    "# Exercício 1 - Crie uma lista de números, converta para um array do numpy. Realize algumas operações:\n",
    "# Adiciona 10 a cada elemento\n",
    "# Multiplica cada elemento por 2\n",
    "# Eleva cada elemento ao quadrado\n",
    "\n",
    "import numpy as np\n",
    "array = np.array([1,2,3,4,5])\n",
    "print('Valor do array ', array)\n"
   ]
  },
  {
   "cell_type": "code",
   "execution_count": 66,
   "id": "2b4c23b9-4258-4c7f-b472-f2a4a30c3d77",
   "metadata": {},
   "outputs": [
    {
     "name": "stdout",
     "output_type": "stream",
     "text": [
      "[11 12 13]\n"
     ]
    }
   ],
   "source": [
    "array2 = np.array([1,2,3]) + 10\n",
    "print(array2)"
   ]
  },
  {
   "cell_type": "code",
   "execution_count": 72,
   "id": "d5b23542-2ae5-431f-9b2f-13631ec86dc2",
   "metadata": {},
   "outputs": [
    {
     "name": "stdout",
     "output_type": "stream",
     "text": [
      "[2 4 6]\n"
     ]
    }
   ],
   "source": [
    "array3 = np.array([1,2,3]) * 2\n",
    "print(array3)"
   ]
  },
  {
   "cell_type": "code",
   "execution_count": 74,
   "id": "c3b03171-e904-4b2e-b3ad-24abc919dd10",
   "metadata": {},
   "outputs": [
    {
     "name": "stdout",
     "output_type": "stream",
     "text": [
      "[1 4 9]\n"
     ]
    }
   ],
   "source": [
    "array4 = np.array([1,2,3]) * [1,2,3]\n",
    "print(array4)"
   ]
  },
  {
   "cell_type": "code",
   "execution_count": null,
   "id": "26e9b867-86c5-4be0-9be0-60cf2c7784d1",
   "metadata": {},
   "outputs": [],
   "source": [
    "# Exercício 2 - Crie duas matrizes 2x2, realize operações de soma, subtração e multiplicação de matrizes:\n",
    "# Soma de matrizes\n",
    "# Subtração de matrizes\n",
    "# Multiplicação de matrizes"
   ]
  },
  {
   "cell_type": "code",
   "execution_count": 104,
   "id": "283173a1-c351-43d8-b035-6162681e9de7",
   "metadata": {},
   "outputs": [
    {
     "name": "stdout",
     "output_type": "stream",
     "text": [
      "Soma [[11 12]\n",
      " [13 14]]\n",
      "Sub [[-9 -8]\n",
      " [-7 -6]]\n",
      "Mult [[30 30]\n",
      " [70 70]]\n"
     ]
    }
   ],
   "source": [
    "# Soma dos produtos dos elementos da linha da primeira matriz pelos elementos da coluna da segunda matriz\n",
    "m1 = np.array([\n",
    "    [1,2],\n",
    "    [3,4]\n",
    "])\n",
    "\n",
    "m2 = np.array([\n",
    "    [10,10],\n",
    "    [10,10]\n",
    "])\n",
    "\n",
    "soma = m1 + m2\n",
    "sub = m1 - m2\n",
    "mult = m1 @ m2\n",
    "\n",
    "print(\"Soma\", soma)\n",
    "print(\"Sub\", sub)\n",
    "print(\"Mult\", mult)"
   ]
  },
  {
   "cell_type": "code",
   "execution_count": 108,
   "id": "172544a1-9636-4d21-b4a8-6a7ec35dc3f0",
   "metadata": {},
   "outputs": [],
   "source": [
    "# Dados dos alunos\n",
    "notas_prova1 = np.array([85, 92, 78, 90, 88, 76, 95, 89, 77, 91])  # Notas da Prova 1\n",
    "notas_prova2 = np.array([80, 87, 85, 88, 91, 79, 92, 85, 76, 90])  # Notas da Prova 2\n",
    "\n",
    "# Pesos atribuídos a cada aluno (por exemplo, o peso de Prova 1 e Prova 2)\n",
    "pesos = np.array([1, 1, 1, 1, 1, 2, 2, 2, 2, 2])"
   ]
  },
  {
   "cell_type": "code",
   "execution_count": 130,
   "id": "7d45eb13-51fe-412d-a18c-a6a2f91c6dbd",
   "metadata": {},
   "outputs": [
    {
     "name": "stdout",
     "output_type": "stream",
     "text": [
      "Media 01:  85.93333333333334\n",
      "Media 02  85.0\n",
      "Desvio padrão 01:  6.456779382943171\n",
      "Desvio padrão 02:  5.139066063011839\n"
     ]
    }
   ],
   "source": [
    "# Você possui dois conjuntos de dados: notas dos alunos em duas provas (Prova 1 e Prova 2) e os pesos atribuídos a cada aluno, representando a importância das provas.\n",
    "# A tarefa é realizar os seguintes cálculos:\n",
    "# - Média ponderada das notas considerando os pesos das provas.\n",
    "# - Desvio padrão da amostra das notas para cada prova.\n",
    "# - Correlação entre as notas das duas provas\n",
    "\n",
    "# Media ponderada\n",
    "media1 = np.average(notas_prova1, weights=pesos)\n",
    "media2 = np.average(notas_prova2, weights=pesos)\n",
    "\n",
    "print(\"Media 01: \", media1)\n",
    "print(\"Media 02 \", media2)\n",
    "\n",
    "# Desvio padrão\n",
    "print(\"Desvio padrão 01: \", np.std(notas_prova1))\n",
    "print(\"Desvio padrão 02: \", np.std(notas_prova2))\n",
    "\n"
   ]
  },
  {
   "cell_type": "code",
   "execution_count": 150,
   "id": "70e43a23-c953-4ad2-8a1c-c7b52eb1a680",
   "metadata": {},
   "outputs": [
    {
     "name": "stdout",
     "output_type": "stream",
     "text": [
      "           Prova 1:   Prova 2: \n",
      "Prova 1:    1.000000   0.812795\n",
      "Prova 2:    0.812795   1.000000\n"
     ]
    },
    {
     "data": {
      "text/plain": [
       "<Axes: >"
      ]
     },
     "execution_count": 150,
     "metadata": {},
     "output_type": "execute_result"
    },
    {
     "data": {
      "image/png": "[encoded data removed]",
      "text/plain": [
       "<Figure size 640x480 with 2 Axes>"
      ]
     },
     "metadata": {},
     "output_type": "display_data"
    }
   ],
   "source": [
    "# library import\n",
    "\n",
    "import pandas as pd\n",
    "import seaborn as sn\n",
    "\n",
    "# Correlação \n",
    "m = pd.DataFrame({\n",
    "    \"Prova 1: \": notas_prova1,\n",
    "    \"Prova 2: \": notas_prova2\n",
    "})         \n",
    "\n",
    "corr = m.corr()\n",
    "\n",
    "print(corr)\n",
    "\n",
    "plot = sn.heatmap(correlation, annot = True, fmt=\".1f\", linewidths=.6)\n",
    "plot"
   ]
  },
  {
   "cell_type": "code",
   "execution_count": null,
   "id": "ae0b77c6-17ba-4d21-a78a-ff35a307cd70",
   "metadata": {},
   "outputs": [],
   "source": []
  }
 ],
 "metadata": {
  "kernelspec": {
   "display_name": "Python 3 (ipykernel)",
   "language": "python",
   "name": "python3"
  },
  "language_info": {
   "codemirror_mode": {
    "name": "ipython",
    "version": 3
   },
   "file_extension": ".py",
   "mimetype": "text/x-python",
   "name": "python",
   "nbconvert_exporter": "python",
   "pygments_lexer": "ipython3",
   "version": "3.12.7"
  }
 },
 "nbformat": 4,
 "nbformat_minor": 5
}
