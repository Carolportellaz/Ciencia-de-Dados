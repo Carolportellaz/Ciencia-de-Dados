{
 "cells": [
  {
   "cell_type": "markdown",
   "metadata": {
    "id": "P3BoBydmNdBn"
   },
   "source": [
    "# <font>Data Science</font>\n",
    "\n",
    "## <font>Fundamentos de Linguagem Python Para Análise de Dados e Data Science</font>"
   ]
  },
  {
   "cell_type": "code",
   "execution_count": 13,
   "metadata": {
    "id": "-XiUxuQxNdBo"
   },
   "outputs": [
    {
     "name": "stdout",
     "output_type": "stream",
     "text": [
      "Versão da Linguagem Python Usada Neste Jupyter Notebook: 3.12.4\n"
     ]
    }
   ],
   "source": [
    "# Versão da Linguagem Python\n",
    "from platform import python_version\n",
    "print('Versão da Linguagem Python Usada Neste Jupyter Notebook:', python_version())"
   ]
  },
  {
   "cell_type": "code",
   "execution_count": 14,
   "metadata": {
    "id": "6MJ6LT87x-rL"
   },
   "outputs": [
    {
     "data": {
      "text/plain": [
       "'2.2.2'"
      ]
     },
     "execution_count": 14,
     "metadata": {},
     "output_type": "execute_result"
    }
   ],
   "source": [
    "import pandas as pd\n",
    "pd.__version__"
   ]
  },
  {
   "cell_type": "markdown",
   "metadata": {
    "id": "RtyQrBZbTbm6"
   },
   "source": [
    "## Análise de Dados com Python e Linguagem SQL\n",
    "\n",
    "**Por Que a Linguagem SQL é Fundamental Para Profissionais de Dados?**\n",
    "\n",
    "A Linguagem SQL (Structured Query Language) é fundamental para profissionais de dados por várias razões:\n",
    "\n",
    "- **Padrão Universal**: SQL é uma linguagem padrão e amplamente aceita para gerenciamento e consulta de bancos de dados relacionais. Independentemente do sistema gerenciador de banco de dados (SGBD) utilizado, SQL é a linguagem comum para realizar consultas e manipulações de dados.\n",
    "\n",
    "\n",
    "- **Flexibilidade**: SQL permite criar consultas complexas e personalizadas, combinando dados de várias tabelas, filtrando informações e realizando operações de agregação e ordenação. Isso permite que os profissionais de dados extraiam informações valiosas a partir dos dados armazenados.\n",
    "\n",
    "\n",
    "- **Manipulação de Dados**: Além das consultas, SQL permite a inserção, atualização e exclusão de dados, bem como a definição de esquemas e gerenciamento de objetos de banco de dados, como tabelas, índices e visões.\n",
    "\n",
    "\n",
    "- **Controle de Acesso e Segurança**: SQL também oferece recursos para gerenciar o acesso e a segurança dos dados, permitindo aos profissionais de dados controlar quem pode acessar, modificar ou excluir informações no banco de dados.\n",
    "\n",
    "\n",
    "- **Alta Demanda no Mercado**: Profissionais de dados com habilidades em SQL estão em alta demanda, já que a linguagem é amplamente usada em várias áreas e setores. O conhecimento em SQL é uma habilidade essencial para cargos como >Analista de Dados, Cientista de Dados, Engenheiro de Dados e Administrador de Banco de Dados.\n",
    "\n",
    "\n",
    "- **Integração com Outras Ferramentas e Tecnologias**: SQL se integra facilmente com outras ferramentas e linguagens de programação, como Python, R, Java, entre outras. Isso permite que os profissionais de dados aproveitem o poder da Linguagem SQL em conjunto com outras tecnologias para analisar, visualizar e processar dados.\n",
    "\n",
    "Dominar a linguagem SQL proporciona aos profissionais de dados uma base sólida para trabalhar com bancos de dados relacionais e extrair insights valiosos a partir deles. Aprender SQL é um passo essencial para qualquer pessoa que deseja ingressar ou progredir no campo da Análise e Ciência de dados. A Linguagem SQL é fundamental para profissionais de dados.\n"
   ]
  },
  {
   "cell_type": "code",
   "execution_count": 15,
   "metadata": {
    "id": "2FL3LiiRHPir"
   },
   "outputs": [
    {
     "name": "stdout",
     "output_type": "stream",
     "text": [
      "Versão da Linguagem Python Usada Neste Jupyter Notebook: 3.12.4\n"
     ]
    }
   ],
   "source": [
    "# Versão da Linguagem Python\n",
    "from platform import python_version\n",
    "print('Versão da Linguagem Python Usada Neste Jupyter Notebook:', python_version())"
   ]
  },
  {
   "cell_type": "code",
   "execution_count": 16,
   "metadata": {
    "id": "iOP6fIQ3HPlj"
   },
   "outputs": [
    {
     "data": {
      "text/plain": [
       "'3.45.3'"
      ]
     },
     "execution_count": 16,
     "metadata": {},
     "output_type": "execute_result"
    }
   ],
   "source": [
    "import sqlite3\n",
    "sqlite3.sqlite_version"
   ]
  },
  {
   "cell_type": "code",
   "execution_count": 17,
   "metadata": {
    "id": "IGbk8DIWHfLj"
   },
   "outputs": [
    {
     "data": {
      "text/plain": [
       "'2.2.2'"
      ]
     },
     "execution_count": 17,
     "metadata": {},
     "output_type": "execute_result"
    }
   ],
   "source": [
    "import pandas as pd\n",
    "pd.__version__"
   ]
  },
  {
   "cell_type": "markdown",
   "metadata": {
    "id": "MixcMbqcHg8L"
   },
   "source": [
    "### Conectando no Banco de Dados com Linguagem Python"
   ]
  },
  {
   "cell_type": "code",
   "execution_count": 27,
   "metadata": {
    "id": "D9RdTlXmHfNz"
   },
   "outputs": [],
   "source": [
    "# Conecta no banco de dados\n",
    "con = sqlite3.connect('database.db')"
   ]
  },
  {
   "cell_type": "code",
   "execution_count": 28,
   "metadata": {
    "id": "loiZG3PcHnOT"
   },
   "outputs": [],
   "source": [
    "# Abre um cursor para percorrer os dados no banco de dados\n",
    "cursor = con.cursor()"
   ]
  },
  {
   "cell_type": "code",
   "execution_count": 29,
   "metadata": {
    "id": "29-gYKgpHnQS"
   },
   "outputs": [],
   "source": [
    "# Query SQL para extrair os nomes das colunas no banco de dados\n",
    "sql_query = \"\"\"SELECT name FROM sqlite_master WHERE type = 'table';\"\"\""
   ]
  },
  {
   "cell_type": "code",
   "execution_count": 31,
   "metadata": {
    "id": "pUK11yWZHfP7"
   },
   "outputs": [
    {
     "data": {
      "text/plain": [
       "<sqlite3.Cursor at 0x21d5e8e5440>"
      ]
     },
     "execution_count": 31,
     "metadata": {},
     "output_type": "execute_result"
    }
   ],
   "source": [
    "# Executa a query\n",
    "cursor.execute(sql_query)"
   ]
  },
  {
   "cell_type": "code",
   "execution_count": 32,
   "metadata": {
    "id": "zUTwkBwoHpy4"
   },
   "outputs": [
    {
     "name": "stdout",
     "output_type": "stream",
     "text": [
      "[]\n"
     ]
    }
   ],
   "source": [
    "# Visualiza o resultado\n",
    "print(cursor.fetchall())"
   ]
  },
  {
   "cell_type": "code",
   "execution_count": 34,
   "metadata": {
    "id": "S_2RR9nDHpz9"
   },
   "outputs": [],
   "source": [
    "# Cria uma instrução SQL\n",
    "query1 = 'SELECT * FROM tb_vendas'"
   ]
  },
  {
   "cell_type": "code",
   "execution_count": 35,
   "metadata": {
    "id": "dpwEdCVDHp17"
   },
   "outputs": [
    {
     "ename": "OperationalError",
     "evalue": "no such table: tb_vendas",
     "output_type": "error",
     "traceback": [
      "\u001b[1;31m---------------------------------------------------------------------------\u001b[0m",
      "\u001b[1;31mOperationalError\u001b[0m                          Traceback (most recent call last)",
      "Cell \u001b[1;32mIn[35], line 2\u001b[0m\n\u001b[0;32m      1\u001b[0m \u001b[38;5;66;03m# Executa a query no banco de dados\u001b[39;00m\n\u001b[1;32m----> 2\u001b[0m cursor\u001b[38;5;241m.\u001b[39mexecute(query1)\n",
      "\u001b[1;31mOperationalError\u001b[0m: no such table: tb_vendas"
     ]
    }
   ],
   "source": [
    "# Executa a query no banco de dados\n",
    "cursor.execute(query1)"
   ]
  },
  {
   "cell_type": "code",
   "execution_count": 26,
   "metadata": {
    "id": "lD55QjeyHsMz"
   },
   "outputs": [
    {
     "ename": "TypeError",
     "evalue": "'NoneType' object is not iterable",
     "output_type": "error",
     "traceback": [
      "\u001b[1;31m---------------------------------------------------------------------------\u001b[0m",
      "\u001b[1;31mTypeError\u001b[0m                                 Traceback (most recent call last)",
      "Cell \u001b[1;32mIn[26], line 2\u001b[0m\n\u001b[0;32m      1\u001b[0m \u001b[38;5;66;03m# List comprehension para visualizar os nomes das colunas\u001b[39;00m\n\u001b[1;32m----> 2\u001b[0m nomes_colunas \u001b[38;5;241m=\u001b[39m [description[\u001b[38;5;241m0\u001b[39m] \u001b[38;5;28;01mfor\u001b[39;00m description \u001b[38;5;129;01min\u001b[39;00m cursor\u001b[38;5;241m.\u001b[39mdescription]\n",
      "\u001b[1;31mTypeError\u001b[0m: 'NoneType' object is not iterable"
     ]
    }
   ],
   "source": [
    "# List comprehension para visualizar os nomes das colunas\n",
    "nomes_colunas = [description[0] for description in cursor.description]"
   ]
  },
  {
   "cell_type": "code",
   "execution_count": null,
   "metadata": {
    "id": "YKv6koS5HsPD"
   },
   "outputs": [],
   "source": [
    "# Visualiza o resultado\n",
    "print(nomes_colunas)"
   ]
  },
  {
   "cell_type": "code",
   "execution_count": null,
   "metadata": {
    "id": "KYxrXx6AHsRl"
   },
   "outputs": [],
   "source": [
    "# Retorna os dados da execução da query\n",
    "dados = cursor.fetchall()\n",
    "\n",
    "# Visualiza os dados\n",
    "dados"
   ]
  },
  {
   "cell_type": "markdown",
   "metadata": {
    "id": "zrRZPcnGHyEL"
   },
   "source": [
    "### Aplicando Linguagem SQL Direto no Banco de Dados com Linguagem Python"
   ]
  },
  {
   "cell_type": "code",
   "execution_count": null,
   "metadata": {
    "id": "do25gVEqHsTy"
   },
   "outputs": [],
   "source": [
    "# A query abaixo retorna a média de unidades vendidas.\n",
    "\n",
    "# Cria uma instrução SQL para calcular a média de unidades vendidas\n",
    "query2 = 'SELECT AVG(Unidades_Vendidas) FROM tb_vendas'"
   ]
  },
  {
   "cell_type": "code",
   "execution_count": null,
   "metadata": {
    "id": "CfoDNitGHsV1"
   },
   "outputs": [],
   "source": [
    "# Executa a query no banco de dados\n",
    "cursor.execute(query2)"
   ]
  },
  {
   "cell_type": "code",
   "execution_count": null,
   "metadata": {
    "id": "Lw2kEA2HH2mL"
   },
   "outputs": [],
   "source": [
    "# Visualiza o resultado\n",
    "print(cursor.fetchall())"
   ]
  },
  {
   "cell_type": "code",
   "execution_count": null,
   "metadata": {
    "id": "pVxp31fFH2oi"
   },
   "outputs": [],
   "source": [
    "# Cria uma instrução SQL para calcular a média de unidades vendidas por produto\n",
    "query3 = 'SELECT Nome_Produto, AVG(Unidades_Vendidas) FROM tb_vendas GROUP BY Nome_Produto'"
   ]
  },
  {
   "cell_type": "code",
   "execution_count": null,
   "metadata": {
    "id": "1USbLClNH2qq"
   },
   "outputs": [],
   "source": [
    "# Executa a query no banco de dados\n",
    "cursor.execute(query3)"
   ]
  },
  {
   "cell_type": "code",
   "execution_count": null,
   "metadata": {
    "id": "9RczHvEaH48z"
   },
   "outputs": [],
   "source": [
    "# Visualiza o resultado\n",
    "cursor.fetchall()"
   ]
  },
  {
   "cell_type": "code",
   "execution_count": null,
   "metadata": {
    "id": "tZbGZFcUH4_K"
   },
   "outputs": [],
   "source": [
    "# A query abaixo retorna a média de unidades vendidas por produto se o valor unitario for maior do que 199.\n",
    "\n",
    "# Cria uma instrução SQL para calcular a média de unidades vendidas por produto,\n",
    "# quando o valor unitário for maior que 199\n",
    "query4 = \"\"\"SELECT Nome_Produto, AVG(Unidades_Vendidas)\n",
    "            FROM tb_vendas\n",
    "            WHERE Valor_Unitario > 199\n",
    "            GROUP BY Nome_Produto\"\"\""
   ]
  },
  {
   "cell_type": "code",
   "execution_count": null,
   "metadata": {
    "id": "ebpXAEG2H5Bi"
   },
   "outputs": [],
   "source": [
    "# Executa a query no banco de dados\n",
    "cursor.execute(query4)"
   ]
  },
  {
   "cell_type": "code",
   "execution_count": null,
   "metadata": {
    "id": "Z_94_YYEIAay"
   },
   "outputs": [],
   "source": [
    "# Visualiza o resultado\n",
    "cursor.fetchall()"
   ]
  },
  {
   "cell_type": "code",
   "execution_count": null,
   "metadata": {
    "id": "Y8gltrN9IAc7"
   },
   "outputs": [],
   "source": [
    "# A query abaixo retorna a média de unidades vendidas por produto se o valor unitario for maior do que 199 e somente se a média de unidades vendidas for maior do que 10.\n",
    "\n",
    "# Esta query está ERRADA!\n",
    "query5 = \"\"\"SELECT Nome_Produto, AVG(Unidades_Vendidas)\n",
    "            FROM tb_vendas\n",
    "            WHERE Valor_Unitario > 199 and AVG(Unidades_Vendidas) > 10\n",
    "            GROUP BY Nome_Produto \"\"\""
   ]
  },
  {
   "cell_type": "code",
   "execution_count": null,
   "metadata": {
    "id": "v8qu_q0SH2sx"
   },
   "outputs": [],
   "source": [
    "# Executa a query no banco de dados\n",
    "# cursor.execute(query5)"
   ]
  },
  {
   "cell_type": "code",
   "execution_count": null,
   "metadata": {
    "id": "pIOBPi9JIDyT"
   },
   "outputs": [],
   "source": [
    "# Cria uma instrução SQL para calcular a média de unidades vendidas por produto,\n",
    "# quando o valor unitário for maior que 199, mas somente se a média de unidades vendidas for maior que 10\n",
    "query5 = \"\"\"SELECT Nome_Produto, AVG(Unidades_Vendidas)\n",
    "            FROM tb_vendas\n",
    "            WHERE Valor_Unitario > 199\n",
    "            GROUP BY Nome_Produto\n",
    "            HAVING AVG(Unidades_Vendidas) > 10\"\"\""
   ]
  },
  {
   "cell_type": "code",
   "execution_count": null,
   "metadata": {
    "id": "8bzmPDZCID0m"
   },
   "outputs": [],
   "source": [
    "# Executa a query no banco de dados\n",
    "cursor.execute(query5)"
   ]
  },
  {
   "cell_type": "code",
   "execution_count": null,
   "metadata": {
    "id": "67MTNwqOIF7z"
   },
   "outputs": [],
   "source": [
    "# Visualiza o resultado\n",
    "cursor.fetchall()"
   ]
  },
  {
   "cell_type": "code",
   "execution_count": null,
   "metadata": {
    "id": "HX1hiXmbIF-T"
   },
   "outputs": [],
   "source": [
    "# Fecha o cursor e encerra a conexão\n",
    "cursor.close()\n",
    "con.close()"
   ]
  },
  {
   "cell_type": "code",
   "execution_count": null,
   "metadata": {
    "id": "xkURxq4eIGAn"
   },
   "outputs": [],
   "source": [
    "# Aplicando Linguagem SQL na Sintaxe do Pandas com Linguagem Python"
   ]
  },
  {
   "cell_type": "code",
   "execution_count": null,
   "metadata": {
    "id": "PsSMhwfbID29"
   },
   "outputs": [],
   "source": [
    "# Conecta no banco de dados\n",
    "con = sqlite3.connect('dataset.db')"
   ]
  },
  {
   "cell_type": "code",
   "execution_count": null,
   "metadata": {
    "id": "-l6MrAAtILP6"
   },
   "outputs": [],
   "source": [
    "# Abre um cursor para percorrer os dados no banco de dados\n",
    "cursor = con.cursor()"
   ]
  },
  {
   "cell_type": "code",
   "execution_count": null,
   "metadata": {
    "id": "0b1LaKjRILR6"
   },
   "outputs": [],
   "source": [
    "# A query abaixo retorna todas as linhas e todas as colunas da tabela."
   ]
  },
  {
   "cell_type": "code",
   "execution_count": null,
   "metadata": {
    "id": "H_PItviVILUO"
   },
   "outputs": [],
   "source": [
    "# Cria uma instrução SQL\n",
    "query = 'SELECT * FROM tb_vendas'"
   ]
  },
  {
   "cell_type": "code",
   "execution_count": null,
   "metadata": {
    "id": "1Q1cQpjeILWU"
   },
   "outputs": [],
   "source": [
    "# Executa a query no banco de dados\n",
    "cursor.execute(query)"
   ]
  },
  {
   "cell_type": "code",
   "execution_count": null,
   "metadata": {
    "id": "9OU_YjYiIOWT"
   },
   "outputs": [],
   "source": [
    "# Retorna os dados da execução da query\n",
    "dados = cursor.fetchall()\n",
    "dados"
   ]
  },
  {
   "cell_type": "code",
   "execution_count": null,
   "metadata": {
    "id": "CGEpSsk3IOY6"
   },
   "outputs": [],
   "source": [
    "type(dados)"
   ]
  },
  {
   "cell_type": "code",
   "execution_count": null,
   "metadata": {
    "id": "SdHvpBrrIOba"
   },
   "outputs": [],
   "source": [
    "# Carrega os dados como dataframe do Pandas\n",
    "df = pd.DataFrame(dados, columns = ['ID_Pedido',\n",
    "                                    'ID_Cliente',\n",
    "                                    'Nome_Produto',\n",
    "                                    'Valor_Unitario',\n",
    "                                    'Unidades_Vendidas',\n",
    "                                    'Custo'])"
   ]
  },
  {
   "cell_type": "code",
   "execution_count": null,
   "metadata": {
    "id": "hrLMnu4FIS0i"
   },
   "outputs": [],
   "source": [
    "df.head()"
   ]
  },
  {
   "cell_type": "code",
   "execution_count": null,
   "metadata": {
    "id": "EhTBt4GWIS27"
   },
   "outputs": [],
   "source": [
    "# Fecha o cursor e encerra a conexão\n",
    "cursor.close()\n",
    "con.close()"
   ]
  },
  {
   "cell_type": "code",
   "execution_count": null,
   "metadata": {
    "id": "t_cTbdgpIU1r"
   },
   "outputs": [],
   "source": [
    "# A query abaixo retorna a média de unidades vendidas."
   ]
  },
  {
   "cell_type": "code",
   "execution_count": null,
   "metadata": {
    "id": "DiImIHccIU3n"
   },
   "outputs": [],
   "source": [
    "# Calcula a média de unidades vendidas\n",
    "media_unidades_vendidas = df['Unidades_Vendidas'].mean()"
   ]
  },
  {
   "cell_type": "code",
   "execution_count": null,
   "metadata": {
    "id": "OCLuG1ABITRr"
   },
   "outputs": [],
   "source": [
    "type(media_unidades_vendidas)"
   ]
  },
  {
   "cell_type": "code",
   "execution_count": null,
   "metadata": {
    "id": "Hpiq5D6lIXdc"
   },
   "outputs": [],
   "source": [
    "print(media_unidades_vendidas)"
   ]
  },
  {
   "cell_type": "code",
   "execution_count": null,
   "metadata": {
    "id": "i2xLdhdTIXfz"
   },
   "outputs": [],
   "source": [
    "#  query abaixo retorna a média de unidades vendidas por produto.\n",
    "\n",
    "# Calcula a média de unidades vendidas por produto\n",
    "media_unidades_vendidas_por_produto = df.groupby('Nome_Produto')['Unidades_Vendidas'].mean()"
   ]
  },
  {
   "cell_type": "code",
   "execution_count": null,
   "metadata": {
    "id": "fHcjCX9qIXh7"
   },
   "outputs": [],
   "source": [
    "# Visualiza os 10 primeiros resultados\n",
    "print(media_unidades_vendidas_por_produto.head(10))"
   ]
  },
  {
   "cell_type": "code",
   "execution_count": null,
   "metadata": {
    "id": "2HMKLVz5IbRr"
   },
   "outputs": [],
   "source": [
    "# A query abaixo retorna a média de unidades vendidas por produto se o valor unitario for maior do que 199.\n",
    "\n",
    "# Retorna a média de unidades vendidas por produto se o valor unitario for maior do que 199.\n",
    "df[df['Valor_Unitario'] > 199].groupby('Nome_Produto')['Unidades_Vendidas'].mean()"
   ]
  },
  {
   "cell_type": "code",
   "execution_count": null,
   "metadata": {
    "id": "JXhKGpjhIbT9"
   },
   "outputs": [],
   "source": [
    "# A query abaixo retorna a média de unidades vendidas por produto se o valor unitario for maior do que 199 e somente se a média de unidades vendidas for maior do que 10.\n",
    "\n",
    "# Retorna a média de unidades vendidas por produto se o valor unitario for maior do que 199.\n",
    "df[df['Valor_Unitario'] > 199].groupby('Nome_Produto')['Unidades_Vendidas'].mean()"
   ]
  },
  {
   "cell_type": "code",
   "execution_count": null,
   "metadata": {
    "id": "fLApbM6-IbWD"
   },
   "outputs": [],
   "source": [
    "# A query abaixo retorna a média de unidades vendidas por produto se o valor unitario for maior do que 199 e somente se a média de unidades vendidas for maior do que 10.\n",
    "\n",
    "# Alternativa B\n",
    "df[df['Valor_Unitario'] > 199].groupby('Nome_Produto') \\\n",
    "                              .filter(lambda x: x['Unidades_Vendidas'].mean() > 10) \\\n",
    "                              .groupby('Nome_Produto')['Unidades_Vendidas'].mean()"
   ]
  },
  {
   "cell_type": "markdown",
   "metadata": {
    "id": "9yyBlHCQIlN7"
   },
   "source": [
    "## Sintaxe SQL x Sintaxe Pandas"
   ]
  },
  {
   "cell_type": "code",
   "execution_count": null,
   "metadata": {
    "id": "cLEaPsnAImJD"
   },
   "outputs": [],
   "source": [
    "# Sintaxe SQL\n",
    "query5 = \"\"\"SELECT Nome_Produto, AVG(Unidades_Vendidas)\n",
    "            FROM tb_vendas\n",
    "            WHERE Valor_Unitario > 199\n",
    "            GROUP BY Nome_Produto\n",
    "            HAVING AVG(Unidades_Vendidas) > 10\"\"\""
   ]
  },
  {
   "cell_type": "code",
   "execution_count": null,
   "metadata": {
    "id": "zWrZUyjHImLL"
   },
   "outputs": [],
   "source": [
    "# Sintaxe Pandas\n",
    "df[df['Valor_Unitario'] > 199].groupby('Nome_Produto') \\\n",
    "                              .filter(lambda x: x['Unidades_Vendidas'].mean() > 10) \\\n",
    "                              .groupby('Nome_Produto')['Unidades_Vendidas'].mean()"
   ]
  },
  {
   "cell_type": "markdown",
   "metadata": {
    "id": "vuDKiiDNHI6q"
   },
   "source": [
    "## Exercícios do Capítulo"
   ]
  },
  {
   "cell_type": "code",
   "execution_count": null,
   "metadata": {
    "id": "1CUZbSt4PGt7"
   },
   "outputs": [],
   "source": [
    "# Exercício 1 - Nesta atividade, você irá conectar-se ao banco de dados, consultar os dados e calcular o total de vendas por produto.\n",
    "# Para isso, você precisará multiplicar o valor unitário pelas unidades vendidas para cada registro, somando os resultados por nome de produto.\n"
   ]
  },
  {
   "cell_type": "code",
   "execution_count": null,
   "metadata": {
    "id": "oPAxLWsePG1_"
   },
   "outputs": [],
   "source": [
    "# Exercício 2 - Nesta atividade, você vai calcular a rentabilidade de cada pedido,\n",
    "# subtraindo o custo total (unidades vendidas * custo) da receita (unidades vendidas * valor unitário).\n"
   ]
  },
  {
   "cell_type": "code",
   "execution_count": null,
   "metadata": {
    "id": "dvALb5LWHI_K"
   },
   "outputs": [],
   "source": [
    "# Exercicio 3 - Nesta atividade, você vai identificar o cliente que comprou mais unidades de um determinado produto e\n",
    "# calcular o valor total gasto por esse cliente.\n"
   ]
  },
  {
   "cell_type": "markdown",
   "metadata": {
    "id": "DT3aufY7mCNA"
   },
   "source": [
    "## Fim"
   ]
  }
 ],
 "metadata": {
  "anaconda-cloud": {},
  "colab": {
   "collapsed_sections": [
    "WO_4W2dlXqM0",
    "rS-UwlbAZMWU",
    "yL0zHXe-ZpMs",
    "ATE6Nys9ZyUG",
    "wCQSTvp1bvvd",
    "AXG2nZ2TcH7N",
    "ynKy1MmocivN",
    "wqvixxFJc3Ce",
    "GvHOj97Ldglp",
    "ebtAUPFxdqv1",
    "ddEubRVmehku",
    "yNdz5HNHexju",
    "KYTMVg2HfYPW",
    "sO_Asyd_fpjn"
   ],
   "provenance": [],
   "toc_visible": true
  },
  "kernelspec": {
   "display_name": "Python 3 (ipykernel)",
   "language": "python",
   "name": "python3"
  },
  "language_info": {
   "codemirror_mode": {
    "name": "ipython",
    "version": 3
   },
   "file_extension": ".py",
   "mimetype": "text/x-python",
   "name": "python",
   "nbconvert_exporter": "python",
   "pygments_lexer": "ipython3",
   "version": "3.12.4"
  }
 },
 "nbformat": 4,
 "nbformat_minor": 0
}
